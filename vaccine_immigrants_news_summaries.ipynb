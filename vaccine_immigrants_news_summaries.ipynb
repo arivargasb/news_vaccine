{
 "cells": [
  {
   "cell_type": "code",
   "execution_count": 26,
   "metadata": {},
   "outputs": [],
   "source": [
    "import pandas as pd\n",
    "import newspaper\n",
    "from newspaper import Article\n",
    "from newspaper import fulltext\n",
    "import requests\n",
    "from gensim.summarization import summarize\n",
    "from gensim.summarization import keywords\n",
    "from docx import Document\n",
    "from docx.text.paragraph import Paragraph"
   ]
  },
  {
   "cell_type": "code",
   "execution_count": 2,
   "metadata": {},
   "outputs": [
    {
     "data": {
      "text/plain": [
       "['http://www.huffingtonpost.com',\n",
       " 'http://cnn.com',\n",
       " 'http://www.time.com',\n",
       " 'http://www.ted.com',\n",
       " 'http://pandodaily.com',\n",
       " 'http://www.cnbc.com',\n",
       " 'http://www.mlb.com',\n",
       " 'http://www.pcmag.com',\n",
       " 'http://www.foxnews.com',\n",
       " 'http://theatlantic.com',\n",
       " 'http://www.bbc.co.uk',\n",
       " 'http://www.vice.com',\n",
       " 'http://www.elle.com',\n",
       " 'http://www.vh1.com',\n",
       " 'http://espnf1.com',\n",
       " 'http://espn.com',\n",
       " 'http://www.npr.org',\n",
       " 'http://www.sfgate.com',\n",
       " 'http://www.glamour.com',\n",
       " 'http://www.whosdatedwho.com',\n",
       " 'http://kotaku.com',\n",
       " 'http://thebostonchannel.com',\n",
       " 'http://www.suntimes.com',\n",
       " 'http://www.businessinsider.com',\n",
       " 'http://www.rivals.com',\n",
       " 'http://thebusinessjournal.com',\n",
       " 'http://www.newrepublic.com',\n",
       " 'http://allthingsd.com',\n",
       " 'http://www.topgear.com',\n",
       " 'http://thecitizen.com',\n",
       " 'http://www.ign.com',\n",
       " 'http://www.sci-news.com',\n",
       " 'http://www.morningstar.com',\n",
       " 'http://www.variety.com',\n",
       " 'http://thebottomline.as.ucsb.edu',\n",
       " 'http://www.gamefaqs.com',\n",
       " 'http://blog.searchenginewatch.com',\n",
       " 'http://thedailyfairfield.com',\n",
       " 'http://www.solarnovus.com',\n",
       " 'http://medicalxpress.com',\n",
       " 'http://www.news.com.au',\n",
       " 'http://www.health.com',\n",
       " 'http://www.computerandvideogames.com',\n",
       " 'http://wsj.com',\n",
       " 'http://www.allure.com',\n",
       " 'http://www.theinsider.com',\n",
       " 'http://cnet.com',\n",
       " 'http://venturebeat.com',\n",
       " 'http://www.topspeed.com',\n",
       " 'http://thedailyworld.com',\n",
       " 'http://games.com',\n",
       " 'http://www.religionnews.com',\n",
       " 'http://blogs.berkeley.edu',\n",
       " 'http://www.sbnation.com',\n",
       " 'http://www.polygon.com',\n",
       " 'http://nytimes.com',\n",
       " 'http://www.thefrisky.com',\n",
       " 'http://telegram.com',\n",
       " 'http://yahoo.com',\n",
       " 'http://www.nbcnews.com',\n",
       " 'http://thedailypage.com',\n",
       " 'http://www.popsci.com',\n",
       " 'http://www.pbs.org',\n",
       " 'http://www.nasa.gov',\n",
       " 'http://www.guardiannews.com',\n",
       " 'http://www.weather.com',\n",
       " 'http://www.gq.com',\n",
       " 'http://www.etonline.com',\n",
       " 'http://telegraph.co.uk',\n",
       " 'http://www.fastcompany.com',\n",
       " 'http://www.infoworld.com',\n",
       " 'http://www.wired.com',\n",
       " 'http://www.pcgamer.com',\n",
       " 'http://sportingnews.com',\n",
       " 'http://theatlanticwire.com',\n",
       " 'http://thecarconnection.com',\n",
       " 'http://www.sun-sentinel.com',\n",
       " 'http://autoblog.com',\n",
       " 'http://www.environmentalleader.com',\n",
       " 'http://thecrimson.com',\n",
       " 'http://thecypresstimes.com',\n",
       " 'http://www.dailyfinance.com',\n",
       " 'http://www.politico.com',\n",
       " 'http://newsroom.fb.com',\n",
       " 'http://news.ycombinator.com',\n",
       " 'http://lifehacker.com',\n",
       " 'http://www.bet.com',\n",
       " 'http://independent.co.uk',\n",
       " 'http://www.mlssoccer.com',\n",
       " 'http://www.bodybuilding.com',\n",
       " 'http://www.cosmopolitan.com',\n",
       " 'http://www.apple.com',\n",
       " 'http://www.autonews.com',\n",
       " 'http://www.eonline.com',\n",
       " 'http://www.vanityfair.com',\n",
       " 'http://techdigest.tv',\n",
       " 'http://www.maximumpc.com',\n",
       " 'http://www.techradar.com',\n",
       " 'http://thedailyjournal.com',\n",
       " 'http://www.mlive.com',\n",
       " 'http://techworld.com.au',\n",
       " 'http://www.techmeme.com',\n",
       " 'http://thedailynewsegypt.com',\n",
       " 'http://thedailygrind.com.au',\n",
       " 'http://techcrunch.com',\n",
       " 'http://tehrantimes.com',\n",
       " 'http://www.hollywoodreporter.com',\n",
       " 'http://thedailysound.com',\n",
       " 'http://www.stltoday.com',\n",
       " 'http://deadspin.com',\n",
       " 'http://www.digitaltrends.com',\n",
       " 'http://seattletimes.com',\n",
       " 'http://seattlepi.com',\n",
       " 'http://www.cleveland.com',\n",
       " 'http://heritage.org',\n",
       " 'http://www.today.com',\n",
       " 'http://www.politifact.com',\n",
       " 'http://zdnet.com',\n",
       " 'http://www.nationalenquirer.com',\n",
       " 'http://egotastic.com',\n",
       " 'http://blogs.creativeloafing.com',\n",
       " 'http://townhall.com',\n",
       " 'http://www.eweek.com',\n",
       " 'http://www.vogue.co.uk',\n",
       " 'http://www.teenvogue.com',\n",
       " 'http://www.nypost.com',\n",
       " 'http://www.reuters.com',\n",
       " 'http://www.scientificamerican.com',\n",
       " 'http://www.miamiherald.com',\n",
       " 'http://www.nydailynews.com',\n",
       " 'http://www.newscientist.com',\n",
       " 'http://bigstory.ap.org',\n",
       " 'http://www.ebony.com',\n",
       " 'http://thedailystar.com',\n",
       " 'http://www.technologyreview.com',\n",
       " 'http://www.theverge.com',\n",
       " 'http://www.nba.com',\n",
       " 'http://www.cbssports.com',\n",
       " 'http://betabeat.com',\n",
       " 'http://www.tmz.com',\n",
       " 'http://tcnewsnet.com',\n",
       " 'http://www.latimes.com',\n",
       " 'http://www.c-span.org',\n",
       " 'http://www.style.com',\n",
       " 'http://www.peoplestylewatch.com',\n",
       " 'http://theboot.com',\n",
       " 'http://www.foxbusiness.com',\n",
       " 'http://www.pcworld.com',\n",
       " 'http://washingtontimes.com',\n",
       " 'http://thedailyreview.com',\n",
       " 'http://www.nfl.com',\n",
       " 'http://www.space.com',\n",
       " 'http://washingtontechnology.com',\n",
       " 'http://www.buzzfeed.com',\n",
       " 'http://inquirer.net',\n",
       " 'http://www.maxim.com',\n",
       " 'http://abcnews.com',\n",
       " 'http://www.extremetech.com',\n",
       " 'http://thedailytimes.com',\n",
       " 'http://mashable.com',\n",
       " 'http://washingtonexaminer.com',\n",
       " 'http://www.bhg.com',\n",
       " 'http://tech.mit.edu',\n",
       " 'http://hotair.com',\n",
       " 'http://www.1up.com',\n",
       " 'http://www.cbc.ca',\n",
       " 'http://gawker.com',\n",
       " 'http://celebuzz.com',\n",
       " 'http://sciencemag.org',\n",
       " 'http://www.rollingstone.com',\n",
       " 'http://slashdot.org',\n",
       " 'http://www.slate.com',\n",
       " 'http://bleacherreport.com',\n",
       " 'http://www.nascar.com',\n",
       " 'http://www.forbes.com',\n",
       " 'http://washingtonpost.com',\n",
       " 'http://nymag.com',\n",
       " 'http://www.microsoft.com',\n",
       " 'http://hbr.org',\n",
       " 'http://www.ft.com',\n",
       " 'http://www.dailymail.co.uk',\n",
       " 'http://www.theautochannel.com',\n",
       " 'http://g4tv.com',\n",
       " 'http://www.aljazeera.com',\n",
       " 'http://politicker.com',\n",
       " 'http://nbcsports.nbc.com',\n",
       " 'http://www.gamespot.com',\n",
       " 'http://news.sky.com',\n",
       " 'http://www.joystiq.com',\n",
       " 'http://www.escapistmagazine.com',\n",
       " 'http://www.thestreet.com',\n",
       " 'http://www.ew.com',\n",
       " 'http://www.nj.com',\n",
       " 'http://msn.com',\n",
       " 'http://thedailyreporter.com',\n",
       " 'http://www.economist.com',\n",
       " 'http://phys.org',\n",
       " 'http://www.glam.com',\n",
       " 'http://perezhilton.com',\n",
       " 'http://www.usmagazine.com',\n",
       " 'http://aol.com',\n",
       " 'http://www.cbsnews.com',\n",
       " 'http://www.tennis.com',\n",
       " 'http://washingtonian.com',\n",
       " 'http://www.sciencedaily.com',\n",
       " 'http://foxsports.com',\n",
       " 'http://www.popularmechanics.com',\n",
       " 'http://www.macworld.com',\n",
       " 'http://thinkprogress.org',\n",
       " 'http://www.mtv.com',\n",
       " 'http://discovery.com',\n",
       " 'http://www.people.com',\n",
       " 'http://thedailybeast.com',\n",
       " 'http://www.hollywood.com',\n",
       " 'http://medium.com',\n",
       " 'http://www.engadget.com',\n",
       " 'http://www.usnews.com',\n",
       " 'http://www.billboard.com',\n",
       " 'http://nationalgeographic.com',\n",
       " 'http://www.purseblog.com',\n",
       " 'http://www.giantbomb.com',\n",
       " 'http://www.automobilemag.com',\n",
       " 'http://thechronicle.com.au',\n",
       " 'http://tbnweekly.com',\n",
       " 'http://techreport.com',\n",
       " 'http://thedailyfix.com',\n",
       " 'http://www.animenewsnetwork.com',\n",
       " 'http://www.realclearpolitics.com',\n",
       " 'http://usatoday.com',\n",
       " 'http://www.techspot.com',\n",
       " 'http://discovermagazine.com',\n",
       " 'http://arstechnica.com',\n",
       " 'http://foreignpolicy.com',\n",
       " 'http://www.redstate.com',\n",
       " 'http://www.marketwatch.com',\n",
       " 'http://www.eurogamer.net',\n",
       " 'http://cbn.com',\n",
       " 'http://www.parade.com',\n",
       " 'http://www.bbcamerica.com',\n",
       " 'http://washingtonindependent.com',\n",
       " 'http://drudgereport.com',\n",
       " 'http://beta.na.leagueoflegends.com']"
      ]
     },
     "execution_count": 2,
     "metadata": {},
     "output_type": "execute_result"
    }
   ],
   "source": [
    "newspaper.popular_urls()"
   ]
  },
  {
   "cell_type": "code",
   "execution_count": 3,
   "metadata": {},
   "outputs": [],
   "source": [
    "#Example link from the New York Times\n",
    "link = \"https://www.cnn.com/2020/12/04/us/vaccine-distrust-black-and-latino-americans/index.html\"\n",
    "#Pass link object into Article\n",
    "article = Article(link)\n",
    "#Call the download and parse methods to download information\n",
    "article.download()\n",
    "article.parse()\n"
   ]
  },
  {
   "cell_type": "code",
   "execution_count": 4,
   "metadata": {},
   "outputs": [],
   "source": [
    "html = requests.get(link).text\n",
    "body = fulltext(html)"
   ]
  },
  {
   "cell_type": "code",
   "execution_count": 5,
   "metadata": {},
   "outputs": [
    {
     "name": "stdout",
     "output_type": "stream",
     "text": [
      "(CNN) When a Covid-19 vaccine becomes widely available to Americans, Joe Cunningham says he won't be taking it.\n",
      "\n",
      "\"I don't know, I don't understand it,\" the 85-year-old said. \"I'd like to know where it's coming from.\"\n",
      "\n",
      "Cunningham, who lives in Hobson City, AL, is among the Black Americans who have little faith in doctors and Covid-19 vaccines recently developed by pharmaceutical companies.\n",
      "\n",
      "Alabama is taking a beating from the coronavirus, with the state's 14-day positivity rate just over 29%. In Calhoun County, where Hobson City sits, the rate is 37%.\n",
      "\n",
      "Still, older residents like Cunningham are reluctant to take a Covid-19 test.\n",
      "\n",
      "The town, located about 100 miles from Tuskegee, is home to one of the darkest chapters in American medical history\n",
      "\n",
      "America's history of racism in medical research and a lack of trust in the federal government is making some Black Americans and Latinos hesitant to take the vaccine.\n",
      "\n",
      "Health and community leaders fear that vaccine hesitancy could result in some Black and Latino Americans not being vaccinated as Covid-19 continues to batter their communities at disproportionate rates.\n",
      "\n",
      "On Monday, Moderna announced that it was applying to the US Food and Drug Administration for emergency use authorization of its Covid-19 vaccine that it says is 94.5% effective against the virus. Pfizer applied on Nov. 20 and says its vaccine is 95% effective in preventing infections.\n",
      "\n",
      "But a study released by the COVID Collaborative , the NAACP and UnidosUS found that only 14% of Black Americans trust that a vaccine will be safe and 18% trust it will be effective.\n",
      "\n",
      "Latino Americans, however, were more optimistic with 34% saying they trust the vaccine will be safe and 40% believing it will be effective.\n",
      "\n",
      "Much of their hesitancy stems from distrust in the federal government and the nation's history of racism in medical research and healthcare, the study found.\n",
      "\n",
      "Carlton Gordon also says he won't immediately take the vaccine.\n",
      "\n",
      "Gordon, a Black father who lives outside of Chicago, says he is concerned the vaccine is being rushed to the market and that not enough Black people have been tested to know if it's safe.\n",
      "\n",
      "Pictured is Carlton Gordon, of Chicago, with his wife and children.\n",
      "\n",
      "\"I would rather not try to pivot toward a vaccine that frankly is not quite proven,\" said Gordon, 34. \"If this vaccine is proven effective after it's been released more broadly to people, then we can certainly value it and I might change my perspective.\"\n",
      "\n",
      "Building trust around the vaccine will require a concerted effort by Black and Latino doctors, researchers, activists and elected officials, said Renee Mahaffey Harris, president and CEO of the Center for Closing the Health Gap in Cincinnati\n",
      "\n",
      "People of color, she said, are more likely to trust leaders who look like them rather than officials from the Centers for Disease Control and Prevention or the FDA.\n",
      "\n",
      "Communities should start planning information campaigns and town halls to discuss how and why the vaccine works, Harris said.\n",
      "\n",
      "\"It must be a Black person talking to a Black person,\" Harris said. \"You're not going to all of a sudden trust a group of people that you have mistrusted just because the science says this.\"\n",
      "\n",
      "A fear of being 'guinea pigs'\n",
      "\n",
      "Ernest Grant, the president of the American Nurses Association, participated in a vaccine trial this fall with hopes that it would combat fears in the Black community around taking the vaccine.\n",
      "\n",
      "Grant, who is Black, said he took the two required doses of the vaccine — the first Sept. 9 and the second Oct. 5 — and experienced mild side effects such as fatigue and chills.\n",
      "\n",
      "Although the trial is double-blinded, meaning researchers and participants don't know who is actually getting the real vaccine or the placebo, Grant said he is confident the vaccine is safe. He recommends other Black leaders take the vaccine so they can share their experience and knowledge with the community.\n",
      "\n",
      "\"I feel confident that once it is released to the public there should not be hesitancy about taking the vaccine,\" Grant said. \"At some point there's always that potential that it (Covid-19) could happen to you and if I know there is a cure that could potentially save me from that, I think I would go for the cure.\"\n",
      "\n",
      "Yet, it's still difficult for some Black people to trust because of racial bias from healthcare providers.\n",
      "\n",
      "Carmen Bailey, of Cleveland, Ohio, suburb of Oakwood Village, said she was diagnosed with Covid-19 in April and has avoided medical help because doctors have treated her poorly in the past.\n",
      "\n",
      "Bailey, who still suffers Covid-19 side effects with her heart, lungs and kidneys, said she refuses to take the vaccine.\n",
      "\n",
      "\"We don't know the side effects,\" said Bailey, 52. \"I just really feel like at this point ... people that's going to take that vaccine are guinea pigs.\"\n",
      "\n",
      "History has left a dark cloud for some Black people.\n",
      "\n",
      "The Tuskegee experiments from 1932-1972, recruited 600 Black men — 399 who had syphilis and 201 who did not — and tracked the disease's progression by not treating the men as they died or suffered severe health issues.\n",
      "\n",
      "Black people who were enslaved were also historically used by doctors to test medications and surgeries that caused health complications or death.\n",
      "\n",
      "The racist history in medical research prevented pharmaceutical companies from recruiting enough people of color earlier this year for vaccine trials, said Dr. Nelson Michael, a coordinator for Operation Warp Speed, an effort led by the government to develop a Covid-19 vaccine.\n",
      "\n",
      "Nearly 40% of reported Covid-19 cases have been Black and Latino people, according to the CDC\n",
      "\n",
      "However, Moderna reported 10% of its vaccine trial participants were Black and 20% were Latino. Pfizer reported 10% were Black and 13% were Latino.\n",
      "\n",
      "Still, Black physicians have rallied around the vaccine in recent weeks.\n",
      "\n",
      "Last month, the Black Coalition Against COVID published a \"Love Letter to Back America\" signed by eight prominent Black doctors that encouraged Black people to participate in the vaccine trials and take the vaccine once it is proven safe.\n",
      "\n",
      "\"We know that our collective role in helping to create a vaccine that works for Black people—and that we trust — has an impact on our very survival,\" the doctors wrote.\n",
      "\n",
      "Black pastors have also united to share information about the vaccine.\n",
      "\n",
      "Rev. Horace Sheffield of Detroit said he joined six leading pastors — including Rev. Al Sharpton and Rev. Raphael Warnock — from churches across the country to launch Choose Healthy Life , an initiative that aims to combat the pandemic's impact on the Black community.\n",
      "\n",
      "Sheffield said he is willing to be one of the first Black people to take the vaccine when it's released.\n",
      "\n",
      "\"We've got a great job to do to convince people to take the vaccine,\" Sheffield said. \"And the only people who can carry that message is us (Black leaders).\"\n",
      "\n",
      "Black leaders in New York, including Sharpton, launched a task force this week to address Covid-19 vaccine delivery to the Black community and concerns about the vaccine's safety.\n",
      "\n",
      "Rev. Horace Sheffield (far right) of Detroit and volunteers offered COVID-19 testing to the community this year.\n",
      "\n",
      "In the Latino community, many won't take the vaccine because of their distrust in the federal government, activists say.\n",
      "\n",
      "President Donald Trump's administration's anti-immigration policies, public charge rules that create barriers to citizenship and threats to the Affordable Care Act have made some Latino families reluctant to receive healthcare, said Rita Carreon, vice president of the health for UnidosUS , a nonpartisan group that advocates for Latinos.\n",
      "\n",
      "Lack of access is the other half of the battle\n",
      "\n",
      "Carreon said Latino Americans will be looking to their trusted leaders and organizations for information on vaccine trial data, side effects, and where they can safely get the vaccine in their neighborhood if they are uninsured.\n",
      "\n",
      "\"Historically, there has not been significant outreach in the community to help them feel confident in the healthcare system,\" Carreon said. \"We want to make sure information is communicated in plain, simple, and clear terms.\"\n",
      "\n",
      "But gaining the confidence of Black and Latino Americans is half the battle.\n",
      "\n",
      "Many people of color living in poor and urban neighborhoods don't have doctors or healthcare facilities near their homes. They also lack transportation.\n",
      "\n",
      "CDC advisers voted this week to recommend that health care workers and residents of long-term care facilities get the Covid-19 vaccine first. If the Modern and Pfizer vaccines are approved, the federal government estimates that 40 million of doses could be available by the end of December.\n",
      "\n",
      "Existing clinics in urban centers such as Chicago and Atlanta worry they won't have the resources to reach every patient once the vaccine is rolled out to the general public.\n",
      "\n",
      "Earlier this year, some ran out of personal protective equipment and Covid-19 tests.\n",
      "\n",
      "CommunityHealth in Chicago , which provides free healthcare to nearly 8,000 patients — most of them Latino — is understaffed with only 42 employees and 1,000 volunteers, CEO Stephanie Willding said.\n",
      "\n",
      "Willding said her clinic isn't equipped for the community outreach, vaccine storage and other logistics needed to get two doses of the vaccine to every patient.\n",
      "\n",
      "She also worries that her patients, particularly single parents and essential workers, won't be able to get their families to the clinic twice.\n",
      "\n",
      "\"Covid-19 has put a spotlight on something that safety net healthcare providers have always known and that is the inequity in healthcare access,\" Willding said. \"When we talk about an equitable approach to vaccine distribution, free and charitable health centers need to be factored into that approach.\"\n",
      "\n",
      "Breanna Lathrop, who heads Good Samaritan Health Center in Atlanta, is in the same boat.\n",
      "\n",
      "Lathrop said she needs funding for syringes and needles. She also needs help convincing patients that the vaccine is safe and necessary.\n",
      "\n",
      "\"I think people are going into this already feeling a little scared and overwhelmed,\" Lathrop said. \"We talk about their questions and we want them to feel comfortable. But when you're talking about suddenly vaccinating hundreds of people, I can't sit with hundreds of people and have that conversation.\"\n"
     ]
    }
   ],
   "source": [
    "print(body)"
   ]
  },
  {
   "cell_type": "code",
   "execution_count": 6,
   "metadata": {},
   "outputs": [
    {
     "name": "stdout",
     "output_type": "stream",
     "text": [
      "Some Black and Latino Americans are still hesitant to take the vaccine. Here's what is fueling that distrust\n"
     ]
    }
   ],
   "source": [
    "#Returns title of the article\n",
    "title=article.title\n",
    "print(title)"
   ]
  },
  {
   "cell_type": "code",
   "execution_count": 7,
   "metadata": {},
   "outputs": [
    {
     "name": "stdout",
     "output_type": "stream",
     "text": [
      "2020-12-04 00:00:00\n"
     ]
    }
   ],
   "source": [
    "#Returns the date of publishing of the article\n",
    "date = article.publish_date\n",
    "print(date)"
   ]
  },
  {
   "cell_type": "code",
   "execution_count": 8,
   "metadata": {},
   "outputs": [
    {
     "name": "stdout",
     "output_type": "stream",
     "text": [
      "(CNN) When a Covid-19 vaccine becomes widely available to Americans, Joe Cunningham says he won't be taking it.\n",
      "\n",
      "\"I don't know, I don't understand it,\" the 85-year-old said. \"I'd like to know where it's coming from.\"\n",
      "\n",
      "Cunningham, who lives in Hobson City, AL, is among the Black Americans who have little faith in doctors and Covid-19 vaccines recently developed by pharmaceutical companies.\n",
      "\n",
      "Alabama\n"
     ]
    }
   ],
   "source": [
    "#Returns first 400 characters of the article's text\n",
    "print(article.text[:400])"
   ]
  },
  {
   "cell_type": "code",
   "execution_count": 9,
   "metadata": {},
   "outputs": [],
   "source": [
    "#Runs nlp method to extract the keywords and summary of the article\n",
    "article.nlp()"
   ]
  },
  {
   "cell_type": "code",
   "execution_count": 10,
   "metadata": {},
   "outputs": [
    {
     "data": {
      "text/plain": [
       "['vaccine',\n",
       " 'doctors',\n",
       " 'healthcare',\n",
       " 'health',\n",
       " 'know',\n",
       " 'hesitant',\n",
       " 'distrust',\n",
       " 'heres',\n",
       " 'black',\n",
       " 'covid19',\n",
       " 'fueling',\n",
       " 'americans',\n",
       " 'trust',\n",
       " 'latino']"
      ]
     },
     "execution_count": 10,
     "metadata": {},
     "output_type": "execute_result"
    }
   ],
   "source": [
    "#Return article's keywords\n",
    "article.keywords"
   ]
  },
  {
   "cell_type": "code",
   "execution_count": 11,
   "metadata": {},
   "outputs": [
    {
     "name": "stdout",
     "output_type": "stream",
     "text": [
      "(CNN) When a Covid-19 vaccine becomes widely available to Americans, Joe Cunningham says he won't be taking it.\n",
      "Health and community leaders fear that vaccine hesitancy could result in some Black and Latino Americans not being vaccinated as Covid-19 continues to batter their communities at disproportionate rates.\n",
      "But a study released by the COVID Collaborative , the NAACP and UnidosUS found that only 14% of Black Americans trust that a vaccine will be safe and 18% trust it will be effective.\n",
      "Latino Americans, however, were more optimistic with 34% saying they trust the vaccine will be safe and 40% believing it will be effective.\n",
      "But gaining the confidence of Black and Latino Americans is half the battle.\n"
     ]
    }
   ],
   "source": [
    "#Return article's summary\n",
    "print(article.summary)"
   ]
  },
  {
   "cell_type": "code",
   "execution_count": 12,
   "metadata": {},
   "outputs": [],
   "source": [
    "text=(body)"
   ]
  },
  {
   "cell_type": "code",
   "execution_count": 13,
   "metadata": {},
   "outputs": [
    {
     "name": "stdout",
     "output_type": "stream",
     "text": [
      "(CNN) When a Covid-19 vaccine becomes widely available to Americans, Joe Cunningham says he won't be taking it.\n",
      "\"I don't know, I don't understand it,\" the 85-year-old said. \"I'd like to know where it's coming from.\"\n",
      "Cunningham, who lives in Hobson City, AL, is among the Black Americans who have little faith in doctors and Covid-19 vaccines recently developed by pharmaceutical companies.\n",
      "Alabama is taking a beating from the coronavirus, with the state's 14-day positivity rate just over 29%. In Calhoun County, where Hobson City sits, the rate is 37%.\n",
      "Still, older residents like Cunningham are reluctant to take a Covid-19 test.\n",
      "The town, located about 100 miles from Tuskegee, is home to one of the darkest chapters in American medical history\n",
      "America's history of racism in medical research and a lack of trust in the federal government is making some Black Americans and Latinos hesitant to take the vaccine.\n",
      "Health and community leaders fear that vaccine hesitancy could result in some Black and Latino Americans not being vaccinated as Covid-19 continues to batter their communities at disproportionate rates.\n",
      "On Monday, Moderna announced that it was applying to the US Food and Drug Administration for emergency use authorization of its Covid-19 vaccine that it says is 94.5% effective against the virus. Pfizer applied on Nov. 20 and says its vaccine is 95% effective in preventing infections.\n",
      "But a study released by the COVID Collaborative , the NAACP and UnidosUS found that only 14% of Black Americans trust that a vaccine will be safe and 18% trust it will be effective.\n",
      "Latino Americans, however, were more optimistic with 34% saying they trust the vaccine will be safe and 40% believing it will be effective.\n",
      "Much of their hesitancy stems from distrust in the federal government and the nation's history of racism in medical research and healthcare, the study found.\n",
      "Carlton Gordon also says he won't immediately take the vaccine.\n",
      "Gordon, a Black father who lives outside of Chicago, says he is concerned the vaccine is being rushed to the market and that not enough Black people have been tested to know if it's safe.\n",
      "Pictured is Carlton Gordon, of Chicago, with his wife and children.\n",
      "\"I would rather not try to pivot toward a vaccine that frankly is not quite proven,\" said Gordon, 34. \"If this vaccine is proven effective after it's been released more broadly to people, then we can certainly value it and I might change my perspective.\"\n",
      "Building trust around the vaccine will require a concerted effort by Black and Latino doctors, researchers, activists and elected officials, said Renee Mahaffey Harris, president and CEO of the Center for Closing the Health Gap in Cincinnati\n",
      "People of color, she said, are more likely to trust leaders who look like them rather than officials from the Centers for Disease Control and Prevention or the FDA.\n",
      "Communities should start planning information campaigns and town halls to discuss how and why the vaccine works, Harris said.\n",
      "\"It must be a Black person talking to a Black person,\" Harris said. \"You're not going to all of a sudden trust a group of people that you have mistrusted just because the science says this.\"\n",
      "A fear of being 'guinea pigs'\n",
      "Ernest Grant, the president of the American Nurses Association, participated in a vaccine trial this fall with hopes that it would combat fears in the Black community around taking the vaccine.\n",
      "Grant, who is Black, said he took the two required doses of the vaccine — the first Sept. 9 and the second Oct. 5 — and experienced mild side effects such as fatigue and chills.\n",
      "Although the trial is double-blinded, meaning researchers and participants don't know who is actually getting the real vaccine or the placebo, Grant said he is confident the vaccine is safe. He recommends other Black leaders take the vaccine so they can share their experience and knowledge with the community.\n",
      "\"I feel confident that once it is released to the public there should not be hesitancy about taking the vaccine,\" Grant said. \"At some point there's always that potential that it (Covid-19) could happen to you and if I know there is a cure that could potentially save me from that, I think I would go for the cure.\"\n",
      "Yet, it's still difficult for some Black people to trust because of racial bias from healthcare providers.\n",
      "Carmen Bailey, of Cleveland, Ohio, suburb of Oakwood Village, said she was diagnosed with Covid-19 in April and has avoided medical help because doctors have treated her poorly in the past.\n",
      "Bailey, who still suffers Covid-19 side effects with her heart, lungs and kidneys, said she refuses to take the vaccine.\n",
      "\"We don't know the side effects,\" said Bailey, 52. \"I just really feel like at this point ... people that's going to take that vaccine are guinea pigs.\"\n",
      "History has left a dark cloud for some Black people.\n",
      "The Tuskegee experiments from 1932-1972, recruited 600 Black men — 399 who had syphilis and 201 who did not — and tracked the disease's progression by not treating the men as they died or suffered severe health issues.\n",
      "Black people who were enslaved were also historically used by doctors to test medications and surgeries that caused health complications or death.\n",
      "The racist history in medical research prevented pharmaceutical companies from recruiting enough people of color earlier this year for vaccine trials, said Dr. Nelson Michael, a coordinator for Operation Warp Speed, an effort led by the government to develop a Covid-19 vaccine.\n",
      "Nearly 40% of reported Covid-19 cases have been Black and Latino people, according to the CDC\n",
      "However, Moderna reported 10% of its vaccine trial participants were Black and 20% were Latino. Pfizer reported 10% were Black and 13% were Latino.\n",
      "Still, Black physicians have rallied around the vaccine in recent weeks.\n",
      "Last month, the Black Coalition Against COVID published a \"Love Letter to Back America\" signed by eight prominent Black doctors that encouraged Black people to participate in the vaccine trials and take the vaccine once it is proven safe.\n",
      "\"We know that our collective role in helping to create a vaccine that works for Black people—and that we trust — has an impact on our very survival,\" the doctors wrote.\n",
      "Black pastors have also united to share information about the vaccine.\n",
      "Rev. Horace Sheffield of Detroit said he joined six leading pastors — including Rev. Al Sharpton and Rev. Raphael Warnock — from churches across the country to launch Choose Healthy Life , an initiative that aims to combat the pandemic's impact on the Black community.\n",
      "Sheffield said he is willing to be one of the first Black people to take the vaccine when it's released.\n",
      "\"We've got a great job to do to convince people to take the vaccine,\" Sheffield said. \"And the only people who can carry that message is us (Black leaders).\"\n",
      "Black leaders in New York, including Sharpton, launched a task force this week to address Covid-19 vaccine delivery to the Black community and concerns about the vaccine's safety.\n",
      "Rev. Horace Sheffield (far right) of Detroit and volunteers offered COVID-19 testing to the community this year.\n",
      "In the Latino community, many won't take the vaccine because of their distrust in the federal government, activists say.\n",
      "President Donald Trump's administration's anti-immigration policies, public charge rules that create barriers to citizenship and threats to the Affordable Care Act have made some Latino families reluctant to receive healthcare, said Rita Carreon, vice president of the health for UnidosUS , a nonpartisan group that advocates for Latinos.\n",
      "Lack of access is the other half of the battle\n",
      "Carreon said Latino Americans will be looking to their trusted leaders and organizations for information on vaccine trial data, side effects, and where they can safely get the vaccine in their neighborhood if they are uninsured.\n",
      "\"Historically, there has not been significant outreach in the community to help them feel confident in the healthcare system,\" Carreon said. \"We want to make sure information is communicated in plain, simple, and clear terms.\"\n",
      "But gaining the confidence of Black and Latino Americans is half the battle.\n",
      "Many people of color living in poor and urban neighborhoods don't have doctors or healthcare facilities near their homes. They also lack transportation.\n",
      "CDC advisers voted this week to recommend that health care workers and residents of long-term care facilities get the Covid-19 vaccine first. If the Modern and Pfizer vaccines are approved, the federal government estimates that 40 million of doses could be available by the end of December.\n",
      "Existing clinics in urban centers such as Chicago and Atlanta worry they won't have the resources to reach every patient once the vaccine is rolled out to the general public.\n",
      "Earlier this year, some ran out of personal protective equipment and Covid-19 tests.\n",
      "CommunityHealth in Chicago , which provides free healthcare to nearly 8,000 patients — most of them Latino — is understaffed with only 42 employees and 1,000 volunteers, CEO Stephanie Willding said.\n",
      "Willding said her clinic isn't equipped for the community outreach, vaccine storage and other logistics needed to get two doses of the vaccine to every patient.\n",
      "She also worries that her patients, particularly single parents and essential workers, won't be able to get their families to the clinic twice.\n",
      "\"Covid-19 has put a spotlight on something that safety net healthcare providers have always known and that is the inequity in healthcare access,\" Willding said. \"When we talk about an equitable approach to vaccine distribution, free and charitable health centers need to be factored into that approach.\"\n",
      "Breanna Lathrop, who heads Good Samaritan Health Center in Atlanta, is in the same boat.\n",
      "Lathrop said she needs funding for syringes and needles. She also needs help convincing patients that the vaccine is safe and necessary.\n",
      "\"I think people are going into this already feeling a little scared and overwhelmed,\" Lathrop said. \"We talk about their questions and we want them to feel comfortable. But when you're talking about suddenly vaccinating hundreds of people, I can't sit with hundreds of people and have that conversation.\"\n"
     ]
    },
    {
     "data": {
      "text/plain": [
       "61"
      ]
     },
     "execution_count": 13,
     "metadata": {},
     "output_type": "execute_result"
    }
   ],
   "source": [
    "sentences=text.split('\\n')\n",
    "sentences\n",
    "\n",
    "while('' in sentences) : \n",
    "    sentences.remove('') \n",
    "\n",
    "for t in sentences:\n",
    "    print(t)\n",
    "len(sentences)"
   ]
  },
  {
   "cell_type": "code",
   "execution_count": 14,
   "metadata": {},
   "outputs": [
    {
     "data": {
      "text/plain": [
       "61"
      ]
     },
     "execution_count": 14,
     "metadata": {},
     "output_type": "execute_result"
    }
   ],
   "source": [
    "len(sentences)"
   ]
  },
  {
   "cell_type": "code",
   "execution_count": 15,
   "metadata": {},
   "outputs": [],
   "source": [
    "article_string = ' '.join(sentences)"
   ]
  },
  {
   "cell_type": "code",
   "execution_count": 16,
   "metadata": {},
   "outputs": [
    {
     "data": {
      "text/plain": [
       "10183"
      ]
     },
     "execution_count": 16,
     "metadata": {},
     "output_type": "execute_result"
    }
   ],
   "source": [
    "len(article_string)"
   ]
  },
  {
   "cell_type": "code",
   "execution_count": 17,
   "metadata": {},
   "outputs": [],
   "source": [
    "# Gensim's summarization performs better\n",
    "if len(article_string)<4000:\n",
    "    summary = summarize(article_string, word_count=200) # use wordcount if article is too short\n",
    "else:\n",
    "    summary = summarize(article_string, ratio=0.05) # otherwise the output will include 5% of the total number of words\n",
    "summary_length = summary.split('.')"
   ]
  },
  {
   "cell_type": "code",
   "execution_count": 18,
   "metadata": {},
   "outputs": [
    {
     "data": {
      "text/plain": [
       "['said',\n",
       " 'vaccinating',\n",
       " 'black',\n",
       " 'covid',\n",
       " 'health',\n",
       " 'latino',\n",
       " 'people',\n",
       " 'care',\n",
       " 'healthcare',\n",
       " 'information']"
      ]
     },
     "execution_count": 18,
     "metadata": {},
     "output_type": "execute_result"
    }
   ],
   "source": [
    "key= keywords(article_string, lemmatize=True, words=10).split('\\n')\n",
    "key"
   ]
  },
  {
   "cell_type": "code",
   "execution_count": 19,
   "metadata": {},
   "outputs": [
    {
     "name": "stdout",
     "output_type": "stream",
     "text": [
      "Keywords: said,  vaccinating,  black,  covid,  health,  latino,  people,  care,  healthcare,  information. "
     ]
    }
   ],
   "source": [
    "print('Keywords:' , end =\" \")\n",
    "i=0\n",
    "while i<9:\n",
    "    print(key[i] + ', ', end =\" \") \n",
    "    i+=1\n",
    "print(key[9] + '.', end =\" \")"
   ]
  },
  {
   "cell_type": "code",
   "execution_count": 20,
   "metadata": {},
   "outputs": [
    {
     "name": "stdout",
     "output_type": "stream",
     "text": [
      "Length of original article: 61\n",
      "Length of summary: 6 \n",
      "\n",
      "Headline: Some Black and Latino Americans are still hesitant to take the vaccine. Here's what is fueling that distrust \n",
      "\n",
      "Link: https://www.cnn.com/2020/12/04/us/vaccine-distrust-black-and-latino-americans/index.html \n",
      "\n",
      "Date: 12/4/2020 \n",
      "\n",
      "Keywords: said,  vaccinating,  black,  covid,  health,  latino,  people,  care,  healthcare,  information. \n",
      "\n",
      "Article Summary:\n",
      "\"If this vaccine is proven effective after it's been released more broadly to people, then we can certainly value it and I might change my perspective.\" Building trust around the vaccine will require a concerted effort by Black and Latino doctors, researchers, activists and elected officials, said Renee Mahaffey Harris, president and CEO of the Center for Closing the Health Gap in Cincinnati People of color, she said, are more likely to trust leaders who look like them rather than officials from the Centers for Disease Control and Prevention or the FDA.\n",
      "\"You're not going to all of a sudden trust a group of people that you have mistrusted just because the science says this.\" A fear of being 'guinea pigs' Ernest Grant, the president of the American Nurses Association, participated in a vaccine trial this fall with hopes that it would combat fears in the Black community around taking the vaccine.\n",
      "Lack of access is the other half of the battle Carreon said Latino Americans will be looking to their trusted leaders and organizations for information on vaccine trial data, side effects, and where they can safely get the vaccine in their neighborhood if they are uninsured.\n"
     ]
    }
   ],
   "source": [
    "print(f'Length of original article: {len(sentences)}')\n",
    "print(f'Length of summary: {len(summary_length)} \\n')\n",
    "print(f'Headline: {title} \\n')\n",
    "print(f'Link: {link} \\n')\n",
    "print(f'Date: {date.month}/{date.day}/{date.year} \\n')\n",
    "print('Keywords:' , end =\" \")\n",
    "i=0\n",
    "while i<9:\n",
    "    print(key[i] + ', ', end =\" \") \n",
    "    i+=1\n",
    "print(key[9] + '.', end =\" \")\n",
    "print('\\n')\n",
    "print(f'Article Summary:\\n{summary}')"
   ]
  },
  {
   "cell_type": "code",
   "execution_count": null,
   "metadata": {},
   "outputs": [],
   "source": []
  },
  {
   "cell_type": "markdown",
   "metadata": {},
   "source": [
    "##### Export to Word"
   ]
  },
  {
   "cell_type": "code",
   "execution_count": 64,
   "metadata": {},
   "outputs": [],
   "source": [
    "import docx\n",
    "doc = docx.Document()\n",
    "doc.add_heading(f'Headline: {title}', 1)\n",
    "doc.add_heading(f'Date: {date.month}/{date.day}/{date.year}', 6)\n",
    "paraKey = doc.add_heading('Keywords: ', 6)\n",
    "i=0\n",
    "while i<9:\n",
    "    paraKey.add_run(key[i] + ', ') \n",
    "    i+=1\n",
    "paraKey.add_run(key[9] + '.')\n",
    "doc.add_heading(f'Source: {link}', 6)\n",
    "doc.add_heading(f'Length of original article: {len(sentences)} ; length of summary: {len(summary_length)}', 6)\n",
    "doc.add_heading(f'Article Summary:',6)\n",
    "doc.add_paragraph(summary)\n",
    "doc.save('summaries/CNN_immigrants_summaries.docx')\n",
    "\n",
    "\n",
    "# paraObj1 = doc.add_paragraph('This is a second paragraph.')\n",
    "# paraObj2 = doc.add_paragraph('This is a yet another paragraph.')\n",
    "# # paraObj1.add_run(' This text is being added to the second paragraph.')\n",
    "# paraObj2 = doc.add_paragraph('Nothing')\n",
    "# doc.save('summaries/multipleParagraphs.docx')"
   ]
  },
  {
   "cell_type": "code",
   "execution_count": null,
   "metadata": {},
   "outputs": [],
   "source": []
  },
  {
   "cell_type": "code",
   "execution_count": 30,
   "metadata": {},
   "outputs": [],
   "source": [
    "links =['https://edition.cnn.com/2020/12/22/health/undocumented-immigrants-coronavirus-vaccine/index.html',\n",
    "        'https://www.cnn.com/2020/12/14/health/jockeying-for-covid-vaccine/index.html',\n",
    "        'https://www.cnn.com/2020/12/13/politics/coronavirus-vaccination-database/index.html',\n",
    "        'https://www.cnn.com/2020/12/04/us/vaccine-distrust-black-and-latino-americans/index.html',\n",
    "        'https://edition.cnn.com/2020/11/30/us/coronavirus-indigenous-farmworkers-radio-station/index.html']\n",
    "        "
   ]
  },
  {
   "cell_type": "code",
   "execution_count": 32,
   "metadata": {},
   "outputs": [],
   "source": [
    "import docx\n",
    "\n",
    "doc = docx.Document()\n",
    "doc.save('summaries/CNN_immigrants_summaries.docx')\n",
    "\n",
    "\n",
    "for link in links:\n",
    "\n",
    "    # Pass link into article \n",
    "    article = Article(link)\n",
    "    \n",
    "    # Call the download and parse methods to download information \n",
    "    article.download()\n",
    "    article.parse()\n",
    "    html = requests.get(link).text\n",
    "    \n",
    "    # Grab article's body\n",
    "    body = fulltext(html)\n",
    "    \n",
    "    # Grab article's info\n",
    "    title=article.title\n",
    "    date = article.publish_date\n",
    "    \n",
    "    # Run nlp method to extract the keywords and summary of the article\n",
    "    article.nlp()\n",
    "    \n",
    "    # Split into sentences and remove empty spaces\n",
    "    text=(body)\n",
    "    sentences=text.split('\\n')\n",
    "    while('' in sentences) : \n",
    "        sentences.remove('') \n",
    "    \n",
    "    # Create a single string\n",
    "    article_string = ' '.join(sentences)\n",
    "    \n",
    "    # Summarize with Gensim\n",
    "    if len(article_string)<4000:\n",
    "        summary = summarize(article_string, word_count=200) # use wordcount if article is too short\n",
    "    else:\n",
    "        summary = summarize(article_string, ratio=0.05) # otherwise the output will include 5% of the total number of words\n",
    "    summary_length = summary.split('.')\n",
    "    \n",
    "    # Get keywords\n",
    "    key= keywords(article_string, lemmatize=True, words=10).split('\\n')\n",
    "    \n",
    "    # Print to Word\n",
    "    doc = Document('summaries/CNN_immigrants_summaries.docx')\n",
    "    doc.add_heading(f'Headline: {title}', 1)\n",
    "    doc.add_heading(f'Date: {date.month}/{date.day}/{date.year}', 6)\n",
    "    paraKey = doc.add_heading('Keywords: ', 6)\n",
    "    i=0\n",
    "    while i<9:\n",
    "        paraKey.add_run(key[i] + ', ') \n",
    "        i+=1\n",
    "    paraKey.add_run(key[9] + '.')\n",
    "    doc.add_heading(f'Source: {link}', 6)\n",
    "    doc.add_heading(f'Length of original article: {len(sentences)} ; length of summary: {len(summary_length)}', 6)\n",
    "    doc.add_heading(f'Article Summary:',6)\n",
    "    doc.add_paragraph(summary)\n",
    "    doc.add_page_break() \n",
    "    doc.save('summaries/CNN_immigrants_summaries.docx')\n"
   ]
  }
 ],
 "metadata": {
  "kernelspec": {
   "display_name": "Python 3",
   "language": "python",
   "name": "python3"
  },
  "language_info": {
   "codemirror_mode": {
    "name": "ipython",
    "version": 3
   },
   "file_extension": ".py",
   "mimetype": "text/x-python",
   "name": "python",
   "nbconvert_exporter": "python",
   "pygments_lexer": "ipython3",
   "version": "3.7.6"
  },
  "toc": {
   "base_numbering": 1,
   "nav_menu": {},
   "number_sections": true,
   "sideBar": true,
   "skip_h1_title": false,
   "title_cell": "Table of Contents",
   "title_sidebar": "Contents",
   "toc_cell": false,
   "toc_position": {},
   "toc_section_display": true,
   "toc_window_display": false
  },
  "varInspector": {
   "cols": {
    "lenName": 16,
    "lenType": 16,
    "lenVar": 40
   },
   "kernels_config": {
    "python": {
     "delete_cmd_postfix": "",
     "delete_cmd_prefix": "del ",
     "library": "var_list.py",
     "varRefreshCmd": "print(var_dic_list())"
    },
    "r": {
     "delete_cmd_postfix": ") ",
     "delete_cmd_prefix": "rm(",
     "library": "var_list.r",
     "varRefreshCmd": "cat(var_dic_list()) "
    }
   },
   "types_to_exclude": [
    "module",
    "function",
    "builtin_function_or_method",
    "instance",
    "_Feature"
   ],
   "window_display": false
  }
 },
 "nbformat": 4,
 "nbformat_minor": 4
}
